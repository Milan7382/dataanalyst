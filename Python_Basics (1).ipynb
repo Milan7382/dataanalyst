{
  "nbformat": 4,
  "nbformat_minor": 0,
  "metadata": {
    "colab": {
      "provenance": []
    },
    "kernelspec": {
      "name": "python3",
      "display_name": "Python 3"
    },
    "language_info": {
      "name": "python"
    }
  },
  "cells": [
    {
      "cell_type": "code",
      "execution_count": 411,
      "metadata": {
        "colab": {
          "base_uri": "https://localhost:8080/"
        },
        "id": "nxTn6PYnacbi",
        "outputId": "7f59073f-f7e9-4a28-f893-d51846d510e0"
      },
      "outputs": [
        {
          "output_type": "execute_result",
          "data": {
            "text/plain": [
              "[2, 3, 4, 197, 5, 55, 66, 77, 88, 99, 190, [100, 200], 200]"
            ]
          },
          "metadata": {},
          "execution_count": 411
        }
      ],
      "source": [
        "# List\n",
        "\n",
        "scores = [2,3,4,5,55,66,77,88,99]\n",
        "scores[3]\n",
        "scores[-3]\n",
        "scores[:]\n",
        "\n",
        "scores[3:]\n",
        "scores[3:7]  # list slicing\n",
        "len(scores)  # length of list\n",
        "\n",
        "scores.append(190) # append an element\n",
        "scores\n",
        "\n",
        "scores.append([100,200])\n",
        "scores\n",
        "\n",
        "scores.extend([100,200])  # appends multiple elements to a list\n",
        "scores.insert(3,197) # inserts an element at a specific index\n",
        "scores.remove(100)\n",
        "scores\n"
      ]
    },
    {
      "cell_type": "code",
      "source": [
        "mylist = [0,1,2,3,4]\n",
        "mylist.remove(3)\n",
        "mylist"
      ],
      "metadata": {
        "id": "rnNhcjW7dcC2",
        "colab": {
          "base_uri": "https://localhost:8080/"
        },
        "outputId": "35e96b65-d4e7-4da7-e97b-4adfe5c69e74"
      },
      "execution_count": 412,
      "outputs": [
        {
          "output_type": "execute_result",
          "data": {
            "text/plain": [
              "[0, 1, 2, 4]"
            ]
          },
          "metadata": {},
          "execution_count": 412
        }
      ]
    },
    {
      "cell_type": "code",
      "source": [
        "# function that accecpts a list and returns the op with the index 0 removed\n",
        "def remove(list):\n",
        "  del list[0]\n",
        "  return list\n",
        "\n",
        "remove([1,2,3,4,5,6,7])"
      ],
      "metadata": {
        "colab": {
          "base_uri": "https://localhost:8080/"
        },
        "id": "dhDMsZ6nGqdH",
        "outputId": "6c8855cb-dd18-41fa-b285-7aa4f1e31de3"
      },
      "execution_count": 413,
      "outputs": [
        {
          "output_type": "execute_result",
          "data": {
            "text/plain": [
              "[2, 3, 4, 5, 6, 7]"
            ]
          },
          "metadata": {},
          "execution_count": 413
        }
      ]
    },
    {
      "cell_type": "code",
      "source": [
        "mylist.append(4)\n",
        "mylist"
      ],
      "metadata": {
        "colab": {
          "base_uri": "https://localhost:8080/"
        },
        "id": "WpfZNYFtGECO",
        "outputId": "6ff959e8-c679-4518-e51d-16902d11050e"
      },
      "execution_count": 414,
      "outputs": [
        {
          "output_type": "execute_result",
          "data": {
            "text/plain": [
              "[0, 1, 2, 4, 4]"
            ]
          },
          "metadata": {},
          "execution_count": 414
        }
      ]
    },
    {
      "cell_type": "code",
      "source": [
        "# reverse a list\n",
        "x = [1,2,3,4,5,6,7,8,9]\n",
        "x[::4]"
      ],
      "metadata": {
        "colab": {
          "base_uri": "https://localhost:8080/"
        },
        "id": "weGyYjzfVsCA",
        "outputId": "7a7b5791-9826-4473-bc20-420ba5079d45"
      },
      "execution_count": 1,
      "outputs": [
        {
          "output_type": "execute_result",
          "data": {
            "text/plain": [
              "[1, 5, 9]"
            ]
          },
          "metadata": {},
          "execution_count": 1
        }
      ]
    },
    {
      "cell_type": "code",
      "source": [
        "# reverse without slicing:\n",
        "def reverse(list):\n",
        "  reverse =[]\n",
        "  for i in range(len(list)-1,-1,-1): # reverse loop range(start, stop,increment)\n",
        "    reverse.append(list[i])\n",
        "  return reverse\n",
        "\n",
        "reverse([1,2,3,4,5,6])\n",
        "\n"
      ],
      "metadata": {
        "colab": {
          "base_uri": "https://localhost:8080/"
        },
        "id": "ZvClCYhNXZ0N",
        "outputId": "23b2f9aa-81fa-4c33-cde4-6a723a35095d"
      },
      "execution_count": 416,
      "outputs": [
        {
          "output_type": "execute_result",
          "data": {
            "text/plain": [
              "[6, 5, 4, 3, 2, 1]"
            ]
          },
          "metadata": {},
          "execution_count": 416
        }
      ]
    },
    {
      "cell_type": "code",
      "source": [
        "min([1,2,3,4,5,6])\n",
        "max([1,2,3,4,5,6])\n",
        "max(['Milan','DurgaP', 'Harshita']) # Unicode value of each character for comparison."
      ],
      "metadata": {
        "colab": {
          "base_uri": "https://localhost:8080/",
          "height": 35
        },
        "id": "KDph-6cHcUO2",
        "outputId": "77af7cde-9b69-411c-c414-736a1e41d565"
      },
      "execution_count": 417,
      "outputs": [
        {
          "output_type": "execute_result",
          "data": {
            "text/plain": [
              "'Milan'"
            ],
            "application/vnd.google.colaboratory.intrinsic+json": {
              "type": "string"
            }
          },
          "metadata": {},
          "execution_count": 417
        }
      ]
    },
    {
      "cell_type": "code",
      "source": [
        "# cumulative sum of list\n",
        "def cumulative_sum(list):\n",
        "  cum = [list[0]]\n",
        "  for i in range(1,len(list)):\n",
        "\n",
        "    cum.append(cum[-1]+list[i])\n",
        "  return cum\n",
        "\n",
        "cumulative_sum([1,2,3,4,5,6])\n"
      ],
      "metadata": {
        "colab": {
          "base_uri": "https://localhost:8080/"
        },
        "id": "aYIXIvJmdEII",
        "outputId": "86615bc9-50c6-43c3-fd18-326e595f9c73"
      },
      "execution_count": 423,
      "outputs": [
        {
          "output_type": "execute_result",
          "data": {
            "text/plain": [
              "[1, 3, 6, 10, 15, 21]"
            ]
          },
          "metadata": {},
          "execution_count": 423
        }
      ]
    },
    {
      "cell_type": "code",
      "source": [
        "# unique elements of a list\n",
        "\n",
        "def unique_ele(list):\n",
        "\n",
        "  uniq = []\n",
        "  for i in range(0,len(list)):\n",
        "    count = 0\n",
        "    for j in range(0,len(list)):\n",
        "      if list[i] == list[j]:\n",
        "        count +=1\n",
        "    if count <= 1:\n",
        "      uniq.append(list[i])\n",
        "  return uniq\n",
        "\n",
        "unique_ele([1,2,3,4,5,5,6,3])\n",
        "\n"
      ],
      "metadata": {
        "colab": {
          "base_uri": "https://localhost:8080/"
        },
        "id": "H3hZCOxuF9tT",
        "outputId": "163d531b-be32-47a7-a682-badd83b05a67"
      },
      "execution_count": 16,
      "outputs": [
        {
          "output_type": "execute_result",
          "data": {
            "text/plain": [
              "[1, 2, 4, 6]"
            ]
          },
          "metadata": {},
          "execution_count": 16
        }
      ]
    },
    {
      "cell_type": "code",
      "source": [
        "# unique elements from a list using counter\n",
        "from collections import Counter\n",
        "def uniq_ele_counter(list):\n",
        "  count = Counter(list)\n",
        "  return [key for key, value in count.items() if value ==1]\n",
        "\n",
        "uniq_ele_counter([1,2,3,4,5,2,4,6,7,8,9])\n",
        "\n"
      ],
      "metadata": {
        "colab": {
          "base_uri": "https://localhost:8080/"
        },
        "id": "cRSNTqwjINxz",
        "outputId": "7ab3a25b-a628-4271-9ffd-023428167a9e"
      },
      "execution_count": 14,
      "outputs": [
        {
          "output_type": "execute_result",
          "data": {
            "text/plain": [
              "[1, 3, 5, 6, 7, 8, 9]"
            ]
          },
          "metadata": {},
          "execution_count": 14
        }
      ]
    },
    {
      "cell_type": "code",
      "source": [
        "# duplicate elements in a list\n",
        "def dup_ele(list):\n",
        "\n",
        "  dup = []\n",
        "  for ele in list:\n",
        "    if list.count(ele)>1 and ele not in dup:\n",
        "      dup.append(ele)\n",
        "\n",
        "  return dup\n",
        "\n",
        "dup_ele([1,2,3,4,5,5,6,3,6,2,9,9])"
      ],
      "metadata": {
        "colab": {
          "base_uri": "https://localhost:8080/"
        },
        "id": "Gb5vi5aCKBco",
        "outputId": "92594c47-a1d3-4a26-ffe4-0522bf83d79f"
      },
      "execution_count": 27,
      "outputs": [
        {
          "output_type": "execute_result",
          "data": {
            "text/plain": [
              "[2, 3, 5, 6, 9]"
            ]
          },
          "metadata": {},
          "execution_count": 27
        }
      ]
    },
    {
      "cell_type": "code",
      "source": [
        "sum([1,2,3,4,5])"
      ],
      "metadata": {
        "id": "EwoK9sRTfzZ1"
      },
      "execution_count": null,
      "outputs": []
    },
    {
      "cell_type": "code",
      "source": [
        "# function that takes a list and number and splits the list in the given number\n",
        "\n",
        "def split(list,num):\n",
        "  result = []\n",
        "  for i in range(0,len(list),num):\n",
        "    result.append(list[i:i +num])\n",
        "  return result\n",
        "\n",
        "split([1,2,3,4,5,6,7,8,9,10,11],4)\n"
      ],
      "metadata": {
        "colab": {
          "base_uri": "https://localhost:8080/"
        },
        "id": "s3iYD07d8AdL",
        "outputId": "2c47f7dc-8fff-4fd7-ca28-4ae43e194a88"
      },
      "execution_count": 8,
      "outputs": [
        {
          "output_type": "execute_result",
          "data": {
            "text/plain": [
              "[[1, 2, 3, 4], [5, 6, 7, 8], [9, 10, 11]]"
            ]
          },
          "metadata": {},
          "execution_count": 8
        }
      ]
    },
    {
      "cell_type": "code",
      "source": [
        "#sort\n",
        "f = [1,4,2,6,3,9,4,6]\n",
        "f.sort()\n",
        "f"
      ],
      "metadata": {
        "colab": {
          "base_uri": "https://localhost:8080/"
        },
        "id": "H0nmouHdAxeq",
        "outputId": "071c9f16-23eb-46b1-e8c2-19a4ceb67fad"
      },
      "execution_count": 10,
      "outputs": [
        {
          "output_type": "execute_result",
          "data": {
            "text/plain": [
              "[1, 2, 3, 4, 4, 6, 6, 9]"
            ]
          },
          "metadata": {},
          "execution_count": 10
        }
      ]
    },
    {
      "cell_type": "code",
      "source": [
        "# sort without affecting the original\n",
        "g = [1,4,2,6,3,9,4,6]\n",
        "sorted(g)\n",
        "g"
      ],
      "metadata": {
        "colab": {
          "base_uri": "https://localhost:8080/"
        },
        "id": "QYD3LmWMA-AZ",
        "outputId": "fd0528ef-05ab-4b36-ec20-dd82640a90c3"
      },
      "execution_count": 12,
      "outputs": [
        {
          "output_type": "execute_result",
          "data": {
            "text/plain": [
              "[1, 4, 2, 6, 3, 9, 4, 6]"
            ]
          },
          "metadata": {},
          "execution_count": 12
        }
      ]
    },
    {
      "cell_type": "code",
      "source": [
        "# Write a function lensort to sort a list of strings based on length.\n",
        "\n",
        "def sort_on_length(list):\n",
        "  return sorted(list,key = len)\n",
        "\n",
        "\n",
        "sort_on_length(['python', 'perl', 'java', 'c', 'haskell', 'ruby'])"
      ],
      "metadata": {
        "colab": {
          "base_uri": "https://localhost:8080/"
        },
        "id": "oeiJeemzBYoZ",
        "outputId": "510a5ed4-396d-4ee9-fc83-7a21b873bfde"
      },
      "execution_count": 21,
      "outputs": [
        {
          "output_type": "execute_result",
          "data": {
            "text/plain": [
              "['c', 'perl', 'java', 'ruby', 'python', 'haskell']"
            ]
          },
          "metadata": {},
          "execution_count": 21
        }
      ]
    },
    {
      "cell_type": "code",
      "source": [
        "# Write a function extsort to sort a list of files based on extension.\n",
        "\n",
        "def sort_on_ext(list):\n",
        "  return sorted(list, key=lambda x: x.split('.')[-1])\n",
        "\n",
        "sort_on_ext(['a.c', 'a.py', 'b.py', 'bar.txt', 'foo.txt', 'x.c'])"
      ],
      "metadata": {
        "colab": {
          "base_uri": "https://localhost:8080/"
        },
        "id": "8pRqMY_dLVye",
        "outputId": "f7b1254f-8aa1-4284-ac6f-31f232a0d5ac"
      },
      "execution_count": 23,
      "outputs": [
        {
          "output_type": "execute_result",
          "data": {
            "text/plain": [
              "['a.c', 'x.c', 'a.py', 'b.py', 'bar.txt', 'foo.txt']"
            ]
          },
          "metadata": {},
          "execution_count": 23
        }
      ]
    },
    {
      "cell_type": "code",
      "source": [
        "j = 'milan.dora'\n",
        "j.split('.')"
      ],
      "metadata": {
        "colab": {
          "base_uri": "https://localhost:8080/"
        },
        "id": "MTNn7nYJL3E-",
        "outputId": "6954dabd-8ba5-4c64-f126-40447f7161a0"
      },
      "execution_count": 22,
      "outputs": [
        {
          "output_type": "execute_result",
          "data": {
            "text/plain": [
              "['milan', 'dora']"
            ]
          },
          "metadata": {},
          "execution_count": 22
        }
      ]
    },
    {
      "cell_type": "code",
      "source": [
        "h = ['python', 'perl', 'java', 'c', 'haskell', 'ruby']\n",
        "h.sort()\n",
        "h"
      ],
      "metadata": {
        "colab": {
          "base_uri": "https://localhost:8080/"
        },
        "id": "4g9S0JJLBhaM",
        "outputId": "741c3cee-668d-43f5-c29f-da53b87ed574"
      },
      "execution_count": 14,
      "outputs": [
        {
          "output_type": "execute_result",
          "data": {
            "text/plain": [
              "['c', 'haskell', 'java', 'perl', 'python', 'ruby']"
            ]
          },
          "metadata": {},
          "execution_count": 14
        }
      ]
    },
    {
      "cell_type": "code",
      "source": [
        "x = [0, 1, [2]]\n",
        "x[2][0] = 3\n",
        "print (x)\n",
        "x[2].append(4)\n",
        "print (x)\n",
        "x[2] = 2\n",
        "print (x)"
      ],
      "metadata": {
        "id": "86ma2o9VWRfJ"
      },
      "execution_count": null,
      "outputs": []
    },
    {
      "cell_type": "code",
      "source": [
        "# tuple\n",
        "\n",
        "scores = (1,2,3,4,5,6,7,8,9,11,22,33,44,55)\n",
        "scores[3:]\n",
        "\n",
        "\n",
        "# Cannot append, extend, insert, remove elements from tuple. Tuple is not mutable\n",
        "# list is mutable\n"
      ],
      "metadata": {
        "id": "VNztlO0ocmBG"
      },
      "execution_count": null,
      "outputs": []
    },
    {
      "cell_type": "code",
      "source": [
        "mytuple1 = (1,2,3)\n",
        "mytuple2 = (4,5,6)\n",
        "print(mytuple1 + mytuple2)"
      ],
      "metadata": {
        "id": "-Av_XYqNFk7t"
      },
      "execution_count": null,
      "outputs": []
    },
    {
      "cell_type": "code",
      "source": [
        "mytuple1 + (4,)"
      ],
      "metadata": {
        "id": "oXSFNFVCGPqv"
      },
      "execution_count": null,
      "outputs": []
    },
    {
      "cell_type": "code",
      "source": [
        "# Dictionary\n",
        "\n",
        "dictb = {'name': ['Milan','Durga', 'Nikky','Harshita'], 'Location': ['Hyderabad','Vizag','Vizag','Rourkela'], 'score': ['20','30','40','50']}\n",
        "\n",
        "dictb['name']\n",
        "\n",
        "dictb['name'].append('Mohi')\n",
        "dictb['name']\n"
      ],
      "metadata": {
        "id": "mTJJcN1bc_p3"
      },
      "execution_count": null,
      "outputs": []
    },
    {
      "cell_type": "code",
      "source": [
        "name = ['Milan', 'Durga', 'Mohi']\n",
        "scores = [2,3,4]\n",
        "for name,key in zip(name,scores):\n",
        "  print(name,key)"
      ],
      "metadata": {
        "id": "TyBJmOaNWvJm"
      },
      "execution_count": null,
      "outputs": []
    },
    {
      "cell_type": "code",
      "source": [
        "# Set\n",
        "\n",
        "scores = {1,2,3,4,5,6,7,8,9,0,99,88,77,66,55,44,33,22,1,2,3,4,5}\n",
        "\n",
        "\n",
        "scores\n",
        "# doesnot takes duplicates, arranges in ascending order\n"
      ],
      "metadata": {
        "id": "5tmIhZxvfhov"
      },
      "execution_count": null,
      "outputs": []
    },
    {
      "cell_type": "code",
      "source": [
        "# task is to remove duplicates from the list. OP has to be a list of unique values\n",
        "scores = [1,2,3,4,5,6,7,8,9,0,99,88,77,66,55,44,33,22,1,2,3,4,5]\n",
        "list(set(scores))"
      ],
      "metadata": {
        "id": "DRejFA15gUtX"
      },
      "execution_count": null,
      "outputs": []
    },
    {
      "cell_type": "code",
      "source": [
        "# Loops\n",
        "# find the square\n",
        "\n",
        "score = [1,2,3,4,5]\n",
        "\n",
        "for ele in score:\n",
        "  print(ele**2)"
      ],
      "metadata": {
        "id": "NPYuIWC6CbL7"
      },
      "execution_count": null,
      "outputs": []
    },
    {
      "cell_type": "code",
      "source": [
        "# want op in a list\n",
        "square = []\n",
        "score = [1,2,3,4,5]\n",
        "\n",
        "for ele in score:\n",
        "  square.append(ele**2)\n",
        "\n",
        "square"
      ],
      "metadata": {
        "id": "HW6DXnMXCy1D"
      },
      "execution_count": null,
      "outputs": []
    },
    {
      "cell_type": "code",
      "source": [
        "# list comprehension\n",
        "\n",
        "score = [1,2,3,4,5,6]\n",
        "\n",
        "[ele**2 for ele in score]"
      ],
      "metadata": {
        "id": "sSgkeHZHDYiD"
      },
      "execution_count": null,
      "outputs": []
    },
    {
      "cell_type": "code",
      "source": [
        "# print even numbers\n",
        "\n",
        "num = [1,2,3,4,5,6,7,8,9,10,11,12,13,14]\n",
        "[ele for ele in num if ele%2 ==0]\n"
      ],
      "metadata": {
        "id": "tdQjDyTnD_3f"
      },
      "execution_count": null,
      "outputs": []
    },
    {
      "cell_type": "code",
      "source": [
        "# functions\n",
        "\n",
        "scores = [1,2,3,4,33,44,55,66]\n",
        "\n",
        "def square(num):\n",
        " return[ ele**2 for ele in num]\n",
        "\n",
        "square(scores)"
      ],
      "metadata": {
        "id": "yIcfv1Kni4Pe"
      },
      "execution_count": null,
      "outputs": []
    },
    {
      "cell_type": "code",
      "source": [
        "# function that takes 2 list and returns the element wise sum\n",
        "\n",
        "def sum1 (list1,list2):\n",
        "  final_sum=[]\n",
        "  for i in range(len(list1)):\n",
        "    final_sum.append(list1[i]+ list2[i])\n",
        "  return final_sum\n",
        "\n",
        "list1 = [1,2,3,4,5]\n",
        "list2 = [6,7,8,9,10]\n",
        "\n",
        "sum1(list1,list2)"
      ],
      "metadata": {
        "id": "7PLydATIjsys"
      },
      "execution_count": null,
      "outputs": []
    },
    {
      "cell_type": "code",
      "source": [
        "import numpy as np\n",
        "\n",
        "arr1 = np.array([1,2,3,4,5])\n",
        "arr2 = np.array([2,3,4,5,6])\n",
        "\n",
        "arr1 + arr2"
      ],
      "metadata": {
        "id": "eUkmiqdzmicA"
      },
      "execution_count": null,
      "outputs": []
    },
    {
      "cell_type": "code",
      "source": [
        "# function to find out the eucleadian distance\n",
        "\n",
        "\n",
        "def distance(l1,l2):\n",
        "  x_arr = np.array(l1)\n",
        "  y_arr = np.array(l2)\n",
        "  return np.sqrt(np.sum(np.square(x_arr - y_arr)))\n",
        "\n",
        "distance([1,2],[3,4])\n",
        "\n",
        "\n"
      ],
      "metadata": {
        "id": "2vPfmRlhogli"
      },
      "execution_count": null,
      "outputs": []
    },
    {
      "cell_type": "code",
      "source": [
        "# function that takes a number n and returns product of all numbers from 1 to n\n",
        "\n",
        "def prod(n):\n",
        "  product = 1\n",
        "  for i in range(1,n+1):\n",
        "    product = product *i\n",
        "  return(product)\n",
        "\n",
        "prod(5)\n",
        "\n"
      ],
      "metadata": {
        "id": "zU6sfc9PsOly"
      },
      "execution_count": null,
      "outputs": []
    },
    {
      "cell_type": "code",
      "source": [
        "def prod_arr(n):\n",
        "  return(np.prod(np.array(range(1,n+1))))\n",
        "\n",
        "prod_arr(5)"
      ],
      "metadata": {
        "id": "qssMDHiXvoN2"
      },
      "execution_count": null,
      "outputs": []
    },
    {
      "cell_type": "code",
      "source": [
        "# function that takes list of integers and re-orders in below format\n",
        "# sample ip =[-12,33,-99,44,55,-55,-66,-77,54,65]\n",
        "# op = [-12,-99,-55,-66,-77,33,33,55,54,65]\n",
        "\n",
        "def order(l1):\n",
        "  neg = []\n",
        "  pos =[]\n",
        "  for ele in l1:\n",
        "    if ele <0:\n",
        "      neg.append(ele)\n",
        "    else:\n",
        "      pos.append(ele)\n",
        "  return(neg+pos)\n",
        "\n",
        "order([-12,33,-99,44,55,-55,-66,-77,54,65])\n"
      ],
      "metadata": {
        "id": "PbuNj3CEwwNC"
      },
      "execution_count": null,
      "outputs": []
    },
    {
      "cell_type": "code",
      "source": [
        "def order_list(l1):\n",
        "  neg = [ele for ele in l1 if ele <0]\n",
        "  pos = [ele for ele in l1 if ele >0]\n",
        "  return(neg + pos)\n",
        "\n",
        "order_list([-12,33,-99,44,55,-55,-66,-77,54,65])"
      ],
      "metadata": {
        "id": "GpQCsK81zNST"
      },
      "execution_count": null,
      "outputs": []
    },
    {
      "cell_type": "code",
      "source": [
        "def order_list1(l1):\n",
        "\n",
        "  return([ele for ele in l1 if ele <0] + [ele for ele in l1 if ele >0])\n",
        "\n",
        "order_list1([-12,33,-99,44,55,-55,-66,-77,54,65])"
      ],
      "metadata": {
        "id": "Hm8HgGp7ztyw"
      },
      "execution_count": null,
      "outputs": []
    },
    {
      "cell_type": "code",
      "source": [
        "# function that takes a sentence and returns the number of words, first word and last word\n",
        "\n",
        "def sent(a):\n",
        "  x = a.split()\n",
        "  return (len(x),x[0],x[-1] )\n",
        "\n",
        "sent('Sun Rises in the East')\n"
      ],
      "metadata": {
        "id": "PXvqyyAi0RZs"
      },
      "execution_count": null,
      "outputs": []
    },
    {
      "cell_type": "code",
      "source": [
        "# function that takes a word and reverses it\n",
        "\n",
        "def reverse(a1):\n",
        "  a=''\n",
        "  for char in a1:\n",
        "    a = char +a\n",
        "  return a\n",
        "\n",
        "reverse('Milan')\n"
      ],
      "metadata": {
        "id": "C7XCOji62XsK"
      },
      "execution_count": null,
      "outputs": []
    },
    {
      "cell_type": "code",
      "source": [
        "'milan'[::-1]"
      ],
      "metadata": {
        "id": "JBqge8Wg4ygB"
      },
      "execution_count": null,
      "outputs": []
    },
    {
      "cell_type": "code",
      "source": [
        "# list of words into sentence\n",
        "\n",
        "' '.join(['Sun', 'Rises', 'in', 'the', 'east'])"
      ],
      "metadata": {
        "id": "NOi9_UIc49E2"
      },
      "execution_count": null,
      "outputs": []
    },
    {
      "cell_type": "code",
      "source": [
        "# function that takses a sentence and reverese the order of words\n",
        "# Ex: 'honesty is the best policy'\n",
        "# op = 'policy best the is honesty'\n",
        "\n",
        "def rev_sent(sent):\n",
        "  rev = []\n",
        "  for ele in sent.split():\n",
        "    rev.insert(0,ele)\n",
        "  return ' '.join(rev)\n",
        "\n",
        "rev_sent('honesty is the best policy')\n"
      ],
      "metadata": {
        "id": "Ct0etySV5Ko1"
      },
      "execution_count": null,
      "outputs": []
    },
    {
      "cell_type": "code",
      "source": [
        "def rev_sent1(sent):\n",
        "  return ' '.join((ele[::-1] for ele in sent[::-1].split()))\n",
        "\n",
        "rev_sent1('honesty is the best policy')"
      ],
      "metadata": {
        "id": "_qbelBR76vLV"
      },
      "execution_count": null,
      "outputs": []
    },
    {
      "cell_type": "code",
      "source": [
        "# function that takes sentence and returns the count of vowels\n",
        "# ip = 'Match has been cancelled due to rain'\n",
        "# op =  12\n",
        "\n",
        "def vow_count(sent):\n",
        "  count =0\n",
        "  for char in sent:\n",
        "    if char.lower() in ['a','e','i','o','u']:\n",
        "      count = count+1\n",
        "  return count\n",
        "\n",
        "vow_count('Match has been cancElled due to rain')"
      ],
      "metadata": {
        "id": "MuBUS0347y2k"
      },
      "execution_count": null,
      "outputs": []
    },
    {
      "cell_type": "code",
      "source": [
        "def vow_count1(sent):\n",
        "\n",
        "  return len([char for char in sent if char.lower() in ['a','e','i','o','u']])\n",
        "\n",
        "vow_count('Match has been cancElled due to rain')"
      ],
      "metadata": {
        "id": "mcDLIgK-9rEJ"
      },
      "execution_count": null,
      "outputs": []
    },
    {
      "cell_type": "code",
      "source": [
        "dicta = {'name': ['Milan','Durga', 'Nikky','Harshita'], 'Location': ['Hyderabad','Vizag','Vizag','Rourkela'], 'score': ['20','30','40','50']}\n",
        "\n",
        "for k,v in dicta.items():\n",
        "  print(k,v)\n",
        "\n",
        "dicta.keys()\n",
        "dicta.values()"
      ],
      "metadata": {
        "id": "5TuP4Ik6jDhB"
      },
      "execution_count": null,
      "outputs": []
    },
    {
      "cell_type": "markdown",
      "source": [],
      "metadata": {
        "id": "k3jSEMZK96jV"
      }
    },
    {
      "cell_type": "code",
      "source": [
        "# function that takes a sentence and returns the dictionary of vowel count\n",
        "def vowel_count(sent):\n",
        "  count_v={}\n",
        "  vowel = ['a','e','i','o','u']\n",
        "  for char in sent:\n",
        "    if char.lower() in vowel:\n",
        "      if char.lower() in count_v.keys():\n",
        "        count_v[char.lower()] = count_v[char.lower()] +1\n",
        "      else:\n",
        "        count_v[char.lower()] = 1\n",
        "  return(count_v)\n",
        "\n",
        "\n",
        "vowel_count('Match has been cancElled due to rain')"
      ],
      "metadata": {
        "id": "Kz_zINwFkeXy"
      },
      "execution_count": null,
      "outputs": []
    },
    {
      "cell_type": "code",
      "source": [
        "# finction that takes a list li and number n. it returns true if sum of any 2 numbers in list is equal to n\n",
        "\n",
        "# ip [1,2,3,4,1,2,3,6,7] n=12 op=false\n",
        "\n",
        "def sum_verify(li,n):\n",
        "  for ele in li:\n",
        "    if n - ele in li:\n",
        "      return(True)\n",
        "    else:\n",
        "      return(False)\n",
        "\n",
        "sum_verify([1,2,3,4,1,2,3,6,7],12)"
      ],
      "metadata": {
        "id": "UjzW_syTSFNb"
      },
      "execution_count": null,
      "outputs": []
    },
    {
      "cell_type": "code",
      "source": [
        "# Function that takes a dictionary of names and scores and returns the name with highest score\n",
        "# ip = {'Milan': 100, 'Durga': 90, 'Nikky': 180, 'Harshita': 5}\n",
        "# op = Nikky\n",
        "\n",
        "def max_score_name(dictx):\n",
        "  for k,v in dictx.items():\n",
        "    if v == max(dictx.values()):\n",
        "      return k\n",
        "\n",
        "\n",
        "max_score_name({'Milan': 100, 'Durga': 90, 'Nikky': 180, 'Harshita': 500})"
      ],
      "metadata": {
        "id": "HuJ0KikKWIww"
      },
      "execution_count": null,
      "outputs": []
    },
    {
      "cell_type": "code",
      "source": [
        "# function that takes a number n and returns the dictionary of squares(from 1 to n)\n",
        "\n",
        "def squares(n):\n",
        "  dis={}\n",
        "  for i in range(1,n+1):\n",
        "    dis[i] = i*i\n",
        "  return dis\n",
        "squares(5)"
      ],
      "metadata": {
        "id": "OWCa9KQ9d18p"
      },
      "execution_count": null,
      "outputs": []
    },
    {
      "cell_type": "code",
      "source": [
        "# function that takes 2 sentences and returns the list of common words\n",
        "\n",
        "def common(sent1,sent2):\n",
        "  com = []\n",
        "  for ele in sent1.split():\n",
        "    if ele in sent2.split():\n",
        "      com.append(ele)\n",
        "  return com\n",
        "\n",
        "common('Sun rises in the east', 'Sun sets in the west')"
      ],
      "metadata": {
        "id": "hR8VFghdemnR"
      },
      "execution_count": null,
      "outputs": []
    },
    {
      "cell_type": "code",
      "source": [
        "# function that counts number of vowels\n",
        "def count_vow(n):\n",
        "    count=0\n",
        "    vow= ['a','e','i','o','u']\n",
        "    for char in n:\n",
        "        if char.lower() in vow:\n",
        "            count=count+1\n",
        "    return count\n",
        "count_vow('Match has been cancelled')"
      ],
      "metadata": {
        "id": "VgG7dosVZlPv"
      },
      "execution_count": null,
      "outputs": []
    },
    {
      "cell_type": "code",
      "source": [
        "def count_vow(n):\n",
        "    vow= ['a','e','i','o','u']\n",
        "\n",
        "    return len([char for char in n if char.lower()in vow])\n",
        "count_vow('Match has been cancelled')"
      ],
      "metadata": {
        "id": "orv3hngWZv64"
      },
      "execution_count": null,
      "outputs": []
    },
    {
      "cell_type": "code",
      "source": [
        "# function that counts vowels and returns each vowel count in a dictionary\n",
        "\n",
        "def count_vow(n):\n",
        "    vow= ['a','e','i','o','u']\n",
        "    vow_count={}\n",
        "    for char in n:\n",
        "        if char.lower() in vow:\n",
        "            if char.lower() in vow_count.keys():\n",
        "                vow_count[char.lower()]=vow_count[char.lower()]+1\n",
        "            else:\n",
        "                vow_count[char.lower()]=1\n",
        "\n",
        "\n",
        "    return vow_count\n",
        "count_vow('Time is money')"
      ],
      "metadata": {
        "id": "QUOuVcqMaD7r"
      },
      "execution_count": null,
      "outputs": []
    },
    {
      "cell_type": "code",
      "source": [
        "# function that takes a list of numbers and a number n, returns True if sum of any 2 numbers in list is equal to n\n",
        "\n",
        "def sum_check(li,n):\n",
        "  for ele in li:\n",
        "    if n - ele in li:\n",
        "      return True\n",
        "  else:\n",
        "    return False\n",
        "\n",
        "sum_check([1,2,3,4,5,6,7,8],13)"
      ],
      "metadata": {
        "id": "YReWSQMUabS8"
      },
      "execution_count": null,
      "outputs": []
    },
    {
      "cell_type": "code",
      "source": [
        "# function that returns the name with max score, from a disctionary of names and scores\n",
        "\n",
        "def max_score(dict1):\n",
        "  for k,v in dict1.items():\n",
        "    if v == max(dict1.values()):\n",
        "      return (k)\n",
        "\n",
        "max_score({'Rohit':98,'John':100,'Ravi':189,'Raj':99})"
      ],
      "metadata": {
        "id": "VWcPR7rCbnrC"
      },
      "execution_count": null,
      "outputs": []
    },
    {
      "cell_type": "code",
      "source": [
        "# function that takes a sentence and counts the number of vowels and consonents\n",
        "\n",
        "def count_con_vow(sent):\n",
        "  count_vow = 0\n",
        "  count_con = 0\n",
        "  vowel = ['a', 'e', 'i','o','u']\n",
        "  for char in sent:\n",
        "    if char.lower() in vowel:\n",
        "      count_vow = count_vow +1\n",
        "    if char.lower() not in vowel and char != ' ':\n",
        "      count_con = count_con +1\n",
        "\n",
        "\n",
        "  return (count_vow, count_con)\n",
        "\n",
        "count_con_vow('Match has been cancelled due to rAin')"
      ],
      "metadata": {
        "id": "GXS-aqLjriSi"
      },
      "execution_count": null,
      "outputs": []
    },
    {
      "cell_type": "code",
      "source": [
        "name =['Milan', 'Durga','Nikky','Harshita']\n",
        "scores = [22,34,45,67]\n",
        "\n",
        "list(zip(name,scores))  # same size list will be stored as list of tples\n",
        "dictionary = dict(zip(name,scores))\n",
        "dictionary\n"
      ],
      "metadata": {
        "id": "PizeF_movd17"
      },
      "execution_count": null,
      "outputs": []
    },
    {
      "cell_type": "code",
      "source": [
        "# function that takes a sentence and returns the word which occurs maximum number of times\n",
        "\n",
        "def max_word_repeat(sent):\n",
        "  word_count={}\n",
        "  sent = sent.lower()\n",
        "  for ele in sent.split():\n",
        "    if ele in word_count:\n",
        "      word_count[ele] +=1\n",
        "    else:\n",
        "      word_count[ele] =1\n",
        "  max_count = max(word_count.values())\n",
        "  value = {i for i in word_count if word_count[i] == max_count}\n",
        "  return (max_count, value)\n",
        "\n",
        "max_word_repeat('Test Cricket is the real test of a player cricket skills in international cricket')\n",
        "\n"
      ],
      "metadata": {
        "id": "RaP7WhRAwaMO"
      },
      "execution_count": null,
      "outputs": []
    },
    {
      "cell_type": "code",
      "source": [
        "def max_word_repeat(sent):\n",
        "  word_count={}\n",
        "  sent = sent.lower()\n",
        "  for ele in sent.split():\n",
        "    if ele in word_count:\n",
        "      word_count[ele] +=1\n",
        "    else:\n",
        "      word_count[ele] =1\n",
        "  max_count = max(word_count.values())\n",
        "  for k, v in word_count.items():\n",
        "    if v == max(word_count.values()):\n",
        "      return (max_count, k)\n",
        "\n",
        "\n",
        "max_word_repeat('Test Cricket is the real test of a player cricket skills in international cricket')"
      ],
      "metadata": {
        "id": "kiGCf4BVzl-E"
      },
      "execution_count": null,
      "outputs": []
    },
    {
      "cell_type": "code",
      "source": [
        "# function that takes a number n and returns the sum of below pattern\n",
        "# ip = 5\n",
        "# op has to be sum of 5+55+555+5555+55555\n",
        "\n",
        "def sum_op(n):\n",
        "  sum =0\n",
        "  for i in range(1,n+1):\n",
        "    sum = sum + int(str(n)*i)\n",
        "  return sum\n",
        "\n",
        "sum_op(3)"
      ],
      "metadata": {
        "id": "640lrnKcVHST"
      },
      "execution_count": null,
      "outputs": []
    },
    {
      "cell_type": "code",
      "source": [
        "def sum_op1(n):\n",
        "  sum=0\n",
        "  return (sum+ int(str(n)*i) for i in range(1,n+1))\n",
        "\n",
        "sum_op(3)"
      ],
      "metadata": {
        "id": "efYiVenEXRMl"
      },
      "execution_count": null,
      "outputs": []
    },
    {
      "cell_type": "code",
      "source": [
        "# lambda function sum of 2 numbers\n",
        "\n",
        "res = lambda x,y : x+y\n",
        "res(3,4)"
      ],
      "metadata": {
        "id": "3iTXH8UXbcfh"
      },
      "execution_count": null,
      "outputs": []
    },
    {
      "cell_type": "code",
      "source": [
        "# lambda expression that taskes a list of numbers and returns the squares\n",
        "# Note: we can write lambda expression only if it fits in a single line\n",
        "\n",
        "sq_lambda = lambda li : [ele ** 2 for ele in li]\n",
        "\n",
        "sq_lambda([1,2,3,4,5,6,7])"
      ],
      "metadata": {
        "id": "52sY2qyZccgS"
      },
      "execution_count": null,
      "outputs": []
    },
    {
      "cell_type": "code",
      "source": [
        "# Want to use a function such that it returns the sum of any number of arguments\n",
        "# *args is used to passed variable length arguments to a function\n",
        "\n",
        "def sum_tu(*x): # here when we give *x python will consider it as a tuple\n",
        "  sum =0\n",
        "  for ele in x:\n",
        "    sum = sum + ele\n",
        "  return sum\n",
        "\n",
        "sum_tu(1,2,3)"
      ],
      "metadata": {
        "id": "5rqJpGiPeuwg"
      },
      "execution_count": null,
      "outputs": []
    },
    {
      "cell_type": "code",
      "source": [
        "# when ** is given in argument python considers it as a dictionary. it is used to pass variable length key worded arguments\n",
        "\n",
        "def get_value(**kwargs):\n",
        "  for k,v in kwargs.items():\n",
        "    print(k,v)\n",
        "\n",
        "get_value(Name = 'Milan', Location = 'Hyderabad', score = 100 )"
      ],
      "metadata": {
        "id": "X5R9R4fMgiYp"
      },
      "execution_count": null,
      "outputs": []
    },
    {
      "cell_type": "code",
      "source": [
        "# map takes 2 parameters function and list. So it goes to every element in the list and applies the function to it.\n",
        "list(map(lambda x:x**2, [1,2,3,4,5,6]))"
      ],
      "metadata": {
        "id": "YQT9hEWribci"
      },
      "execution_count": null,
      "outputs": []
    },
    {
      "cell_type": "code",
      "source": [
        "Sentence = ['Milan Dora', 'Sum rises in the east']\n",
        "list(map(lambda sent: len(sent.split()), Sentence))"
      ],
      "metadata": {
        "id": "qPUx-V_MitYg"
      },
      "execution_count": null,
      "outputs": []
    },
    {
      "cell_type": "code",
      "source": [
        "# dictionary comprehension\n",
        "{i: i**2 for i in range(1,5)}"
      ],
      "metadata": {
        "id": "E27pMz82kNVw"
      },
      "execution_count": null,
      "outputs": []
    },
    {
      "cell_type": "code",
      "source": [
        "def operations(x,x1,x2):\n",
        "  result = 0\n",
        "  if x == '+':\n",
        "    result = x1 + x2\n",
        "    return f\" {x1} {x} {x2} = {result}\"\n",
        "  if x == '-':\n",
        "    result = x1 - x2\n",
        "    return f\" {x1} {x} {x2} = {result}\"\n",
        "  if x == '*':\n",
        "    result = x1 * x2\n",
        "    return f\" {x1} {x} {x2} = {result}\"\n",
        "  if x == '/':\n",
        "    result = x1 / x2\n",
        "    return f\" {x1} {x} {x2} = {result}\"\n",
        "  if x == '>':\n",
        "    if x1 > x2:\n",
        "      return f\" {x1} {x} {x2}\"\n",
        "    else:\n",
        "      return f\" {x2} {x} {x1}\"\n",
        "  if x == '<':\n",
        "    if x1 < x2:\n",
        "      return f\" {x1} {x} {x2}\"\n",
        "    else:\n",
        "      return f\" {x2} {x} {x1}\"\n",
        "\n",
        "\n",
        "\n",
        "operations('<',9258,17350)"
      ],
      "metadata": {
        "id": "phFTMbEK5a_N"
      },
      "execution_count": null,
      "outputs": []
    },
    {
      "cell_type": "code",
      "source": [
        "def pan_check(sent):\n",
        "\n",
        "  if len(sent) ==12 and sent.isdigit():\n",
        "    return \"Valid Aadhar Number\"\n",
        "\n",
        "  if len(sent) ==10 and sent[:5].isalpha() and sent[5:9].isdigit() and sent[-1].isalpha():\n",
        "    return \"Valid Pan\"\n",
        "  else:\n",
        "    return \"Invalid Details\"\n",
        "\n",
        "pan_check('1234567891')"
      ],
      "metadata": {
        "id": "gqw2yZtZBJpt"
      },
      "execution_count": null,
      "outputs": []
    },
    {
      "cell_type": "code",
      "source": [
        "def pan_check1(sent):\n",
        "  valid_pan = len(sent) ==10 and sent[:5].isalpha() and sent[5:9].isdigit() and sent[-1].isalpha()\n",
        "  if valid_pan == True:\n",
        "    return \"Valid Pan Details\"\n",
        "  else:\n",
        "    return \"Invalid Pan Details\"\n",
        "\n",
        "def aadhar_check(sent1):\n",
        "  valid_aadhar = len(sent1) ==12 and sent1.isdigit()\n",
        "  if valid_aadhar == True:\n",
        "    return \"Valid AAdhar Details\"\n",
        "  else:\n",
        "    return \"Invalid AAdhar Details\"\n",
        "\n",
        "def ssn_check(sent):\n",
        "  valid_ssn = len(sent) ==10 and sent.isdigit()\n",
        "  if valid_ssn == True:\n",
        "    return \"Valid SSN Details\"\n",
        "  else:\n",
        "    return \"Invalid SSN Details\"\n",
        "\n",
        "def DL_check(sent1):\n",
        "  valid_dl = len(sent1) ==10 and sent1[0].isalpha() and sent1[1:].isdigit()\n",
        "  if valid_dl == True:\n",
        "    return \"Valid Drivers License Details\"\n",
        "  else:\n",
        "    return \"Invalid Drivers License Details\"\n",
        "\n",
        "def details(con, Id1, Id2):\n",
        "  if con =='Ind':\n",
        "    pan_result = pan_check1(Id1)\n",
        "    aadhar_result = aadhar_check(Id2)\n",
        "    return pan_result, aadhar_result\n",
        "  if con =='USA':\n",
        "    ssn_result = ssn_check(Id1)\n",
        "    DL_result = DL_check(Id2)\n",
        "    return ssn_result, DL_result\n",
        "\n",
        "\n",
        "details('USA', '1234567890', 'A123456789')\n",
        "\n",
        "\n"
      ],
      "metadata": {
        "id": "xT31kNEUBQ8o"
      },
      "execution_count": null,
      "outputs": []
    },
    {
      "cell_type": "code",
      "source": [
        "details('Ind', 'BJAPD051J', '123456789098')"
      ],
      "metadata": {
        "id": "JLo8EtXzxc4R"
      },
      "execution_count": null,
      "outputs": []
    },
    {
      "cell_type": "code",
      "source": [
        "# function that takes a dictionary of names and scores  and a name and returns the score of the corresponding name\n",
        "# dict = {'Milan': 100, 'Durga': 200, 'Nikky': 300, 'Harshira': 400} , Durga\n",
        "# op = 200\n",
        "\n",
        "def ret_score(dict, name):\n",
        "  for k,v in dict.items():\n",
        "    if k == name:\n",
        "      return v\n",
        "\n",
        "ret_score({'Milan': 100, 'Durga': 200, 'Nikky': 300, 'Harshira': 400} , 'Durga')"
      ],
      "metadata": {
        "id": "_gBXYh2TF6HQ"
      },
      "execution_count": null,
      "outputs": []
    },
    {
      "cell_type": "code",
      "source": [
        "# lambda expression that takes a sentence and returns first and last word\n",
        "sent = 'My Name is Milan'\n",
        "\n",
        "\n",
        "op = lambda sent: (sent.split()[0], sent.split()[-1])\n",
        "\n",
        "op(sent)"
      ],
      "metadata": {
        "id": "W9PsPIsUIsP-"
      },
      "execution_count": null,
      "outputs": []
    },
    {
      "cell_type": "code",
      "source": [
        "# Generate a random number between 100, 1000(including)\n",
        "import random\n",
        "gen_number = random.randint(100,1000)\n",
        "print('Randomly selected lucky viewer is:', gen_number)"
      ],
      "metadata": {
        "id": "tamhw8ElNpQO"
      },
      "execution_count": null,
      "outputs": []
    },
    {
      "cell_type": "code",
      "source": [
        "# Area of a polygon\n",
        "import math\n",
        "\n",
        "def area_polygon(n,s):\n",
        "  angle = math.radians(360/n)\n",
        "  area = 0.5 * n * (math.sin(angle) * s**2)\n",
        "  return f\"Area of polygon with {n} sides and side length {s} is: {area}\"\n",
        "\n",
        "area_polygon(6,4)"
      ],
      "metadata": {
        "id": "h8xHkW0AO2nb"
      },
      "execution_count": null,
      "outputs": []
    },
    {
      "cell_type": "code",
      "source": [
        "# Area of equilateral triangle with side a\n",
        "from math import sqrt\n",
        "def area_equi_triangle(a):\n",
        "  area = (sqrt(3)/4)* a**2\n",
        "  return f\" Area of a equilateral triangle with side length {a} is : {area}\"\n",
        "\n",
        "area_equi_triangle(5)"
      ],
      "metadata": {
        "id": "F5fASlMNSawh"
      },
      "execution_count": null,
      "outputs": []
    },
    {
      "cell_type": "code",
      "source": [
        "# printing a word without vowel\n",
        "\n",
        "def no_vowel(word):\n",
        "  final = ''\n",
        "  vowel = ('a','e','i','o','u')\n",
        "  for char in word:\n",
        "    if char not in vowel:\n",
        "     final = final+char\n",
        "  return final\n",
        "\n",
        "no_vowel('blueberry')"
      ],
      "metadata": {
        "id": "fRlIuD0XCIg7"
      },
      "execution_count": null,
      "outputs": []
    },
    {
      "cell_type": "code",
      "source": [
        "# from above program, instead of removing vowel, replace them with (vowel)\n",
        "# e.g IP = blueberry  op = bl(u)(e)b(e)rry\n",
        "\n",
        "def sub_vowel(word):\n",
        "  final =''\n",
        "  vowel = ('a','e','i','o','u')\n",
        "  for char in word:\n",
        "    if char not in vowel:\n",
        "      final = final + char\n",
        "    if char in vowel:\n",
        "      final = final+ f\"({char})\"\n",
        "  return final\n",
        "\n",
        "sub_vowel('blueberry')"
      ],
      "metadata": {
        "id": "vPVR_82ODnFf"
      },
      "execution_count": null,
      "outputs": []
    },
    {
      "cell_type": "code",
      "source": [
        "# print z pattern with *\n",
        "print('* '*8)\n",
        "\n",
        "for i in range(1,7):\n",
        "  print('  '* (7-i)+ '*')\n",
        "print('* '*8)\n"
      ],
      "metadata": {
        "id": "-OR8OV_FHKq9"
      },
      "execution_count": null,
      "outputs": []
    },
    {
      "cell_type": "code",
      "source": [
        "for i in range(1,8):\n",
        "  print('* '*(8-i))\n"
      ],
      "metadata": {
        "id": "Cmtvh9UvJKLV"
      },
      "execution_count": null,
      "outputs": []
    },
    {
      "cell_type": "code",
      "source": [
        "for i in range(1,11):\n",
        "  if i <=5:\n",
        "    print('  '* 5 + '* ' * 5)\n",
        "  else:\n",
        "    print('* '*5 + '  '*5)"
      ],
      "metadata": {
        "id": "hdKz6i_YJeD-"
      },
      "execution_count": null,
      "outputs": []
    },
    {
      "cell_type": "code",
      "source": [
        "# fahrenheit (0 to 100)_to_celsius\n",
        "\n",
        "def fah_to_cel(number):\n",
        "  return( (number -32)* (5/9))\n",
        "\n",
        "print(\"fahrenheit  celsius\")\n",
        "for temparature in range(0,101,5):\n",
        "  cel = fah_to_cel(temparature)\n",
        "  print( f\" {temparature}          {cel:.2f}\")"
      ],
      "metadata": {
        "id": "U_xJPhmhPJdk"
      },
      "execution_count": null,
      "outputs": []
    },
    {
      "cell_type": "code",
      "source": [
        "def function(a,b=5,c=10):\n",
        "  poly = 2 * a**2 - 5 * b + c\n",
        "  print(a,b,c)\n",
        "  print(poly)\n",
        "\n",
        "function(3,7)\n",
        "function(25,c=24)\n",
        "function(c=50, a=100)"
      ],
      "metadata": {
        "id": "IDvjBTeUr3Bo"
      },
      "execution_count": null,
      "outputs": []
    },
    {
      "cell_type": "code",
      "source": [
        "# function to check if a char is vowel\n",
        "def check_vowel(char):\n",
        "  vowel = ['a','e','i','o','u']\n",
        "  if char in vowel:\n",
        "    return True\n",
        "  else:\n",
        "    return False\n",
        "\n",
        "check_vowel('n')"
      ],
      "metadata": {
        "id": "Fr_26Cgft_7f"
      },
      "execution_count": null,
      "outputs": []
    },
    {
      "cell_type": "code",
      "source": [
        "# find mersennel number\n",
        "def mersennel(n):\n",
        "  return 2**n -1\n",
        "\n",
        "mersennel(3)"
      ],
      "metadata": {
        "id": "BVhzhYKJur0O"
      },
      "execution_count": null,
      "outputs": []
    },
    {
      "cell_type": "code",
      "source": [
        "# function that takes a 4 digit number, splits the number into 2, and returs the sum of squares Eg: ip = 1234 op = 12**2 + 34**2\n",
        "def split_square(a):\n",
        "\n",
        "  x = int(str(a)[:2])\n",
        "  y = int(str(a)[2:])\n",
        "\n",
        "  sum = x**2 + y**2\n",
        "  return(sum)\n",
        "\n",
        "split_square(1234)\n"
      ],
      "metadata": {
        "id": "4yVYQDMBvio5"
      },
      "execution_count": null,
      "outputs": []
    },
    {
      "cell_type": "code",
      "source": [
        "# rock paper scissor\n",
        "\n",
        "def result(system,char):\n",
        "  if system == 'Rock' and char == 'Paper':\n",
        "    return 'Paper beats Rock : You won'\n",
        "  if system == 'Rock' and char == 'Scissor':\n",
        "    return 'Rock beats Scissor : You lost'\n",
        "  if system == 'Paper' and char == 'Rock':\n",
        "    return 'Paper beats Rock : You lost'\n",
        "  if system == 'Paper' and char == 'Scissor':\n",
        "    return 'Scissor beats Paper : You won'\n",
        "  if system == 'Scissor' and char == 'Rock':\n",
        "    return 'Rock beats Scissor : You won'\n",
        "  if system == 'Scissor' and char == 'Paper':\n",
        "    return 'Scissor beats Paper : You lost'\n",
        "\n",
        "def rock_paper_scissor(char):\n",
        "  system = random.choice(['Rock', 'Paper', 'Scissor'])\n",
        "  if char not in ['Rock', 'Paper', 'Scissor']:\n",
        "    return 'Invalid input'\n",
        "  if system.lower() == char.lower():\n",
        "    return f\" System = {system}, Player = {char}, Draw\"\n",
        "  else:\n",
        "    return f\" System = {system}, Player = {char}, {result(system,char)}\"\n",
        "\n",
        "rock_paper_scissor('Rock')\n",
        "\n"
      ],
      "metadata": {
        "id": "Pf5TvoNbKAIm"
      },
      "execution_count": null,
      "outputs": []
    },
    {
      "cell_type": "code",
      "source": [
        "# function that takes a nimber and returns the text of number e.g IP = 123 OP = One Two Three\n",
        "\n",
        "def num_text(number):\n",
        "  dict = {1:'One ',2:'Two ',3:'Three ',4:'Four ',5:'Five ',6:'Six ',7:'Seven ',8:'Eight ',9:'Nine '}\n",
        "  text = ''\n",
        "  for i in range(0,len(str(number))):\n",
        "    for k,v in dict.items():\n",
        "      if int(str(number)[i]) == k:\n",
        "        text = text + v\n",
        "  return text\n",
        "\n",
        "num_text(3423669)\n",
        "\n",
        "\n"
      ],
      "metadata": {
        "id": "JucEB3pQMqYB"
      },
      "execution_count": null,
      "outputs": []
    },
    {
      "cell_type": "code",
      "source": [
        "# function that calculates the taxi fare. Base fare 3$ and 0.10$ for every 100 mtrs. Input in km\n",
        "\n",
        "def fare(dist):\n",
        "  base = 3\n",
        "  dist_fare = ((dist*1000)/100)*0.10\n",
        "  final_fare = base + dist_fare\n",
        "  return base, dist_fare, final_fare\n",
        "\n",
        "fare(30)"
      ],
      "metadata": {
        "id": "fk7qxfQPTm64"
      },
      "execution_count": null,
      "outputs": []
    },
    {
      "cell_type": "code",
      "source": [
        "# generate a playing card deck\n",
        "\n",
        "def generate():\n",
        "  deck=[]\n",
        "  value = ['2','3','4','5','6','7','8','9','T','J','K','Q','A']\n",
        "  suit = ['H', 'C','D','S']\n",
        "  for i in suit:\n",
        "    for j in value:\n",
        "      card = i+j\n",
        "      deck.append(card)\n",
        "  return deck\n",
        "\n",
        "generate()"
      ],
      "metadata": {
        "id": "VcSvm3O3Wzi1"
      },
      "execution_count": null,
      "outputs": []
    },
    {
      "cell_type": "code",
      "source": [
        "def guess(alpha):\n",
        "  word = 'Milan Dora'\n",
        "  final_word = ''\n",
        "  for char in word:\n",
        "    if alpha == char:\n",
        "      final_word = final_word + alpha\n",
        "    else:\n",
        "      final_word = final_word + '_ '\n",
        "  return final_word\n",
        "\n",
        "guess('a')\n"
      ],
      "metadata": {
        "id": "ut5POw0MqdTW"
      },
      "execution_count": null,
      "outputs": []
    },
    {
      "cell_type": "code",
      "source": [
        "def hangman():\n",
        "  words = ['Dunki','Jawan','Pathan','Baadshah', 'Kal Ho Na Ho']\n",
        "  word = random.choice(words).lower()\n",
        "  guessed_letters = []\n",
        "  word_len = len(word)\n",
        "\n",
        "  print(\"Welcome to Hangman\")\n",
        "  display = ['_'] * word_len\n",
        "  for i in range(0,word_len):\n",
        "    if word[i] == ' ':\n",
        "      display[i] = ' '\n",
        "\n",
        "  lives = 5\n",
        "  print(\" \".join(display))\n",
        "\n",
        "  while lives > 0 and '_' in display:\n",
        "    guess = input(\"Guess a letter : \").lower()\n",
        "    if len(guess) > 1 or guess.isdigit():\n",
        "      print(\"Enter vaild input\")\n",
        "      continue\n",
        "    if guess in guessed_letters:\n",
        "      print(\"Already wo letter guess karliya. Kitne bar wohich bolta\")\n",
        "      continue\n",
        "    guessed_letters.append(guess)\n",
        "    if guess in word:\n",
        "      print('Sahi pakde he')\n",
        "      for i in range(0,word_len):\n",
        "        if word[i] == guess:\n",
        "          display[i] = guess\n",
        "    else:\n",
        "      lives -=1\n",
        "      print(f\" Wrong guess Maccha. Bas aur {lives} lives bache\")\n",
        "    print(\" \".join(display))\n",
        "  if \"_\" not in display:\n",
        "    print(\"Sath Crore (Amitabh Bachchan ke awaz me)\")\n",
        "  else:\n",
        "    print(f\"Galat Zawab (again Amitabh Bachchan ke awaz me) Sahi zawab tha '{word}'\")"
      ],
      "metadata": {
        "id": "lsmKZ735ttg_"
      },
      "execution_count": null,
      "outputs": []
    },
    {
      "cell_type": "code",
      "source": [
        "hangman()"
      ],
      "metadata": {
        "id": "jMDbItP4yzsL"
      },
      "execution_count": null,
      "outputs": []
    },
    {
      "cell_type": "code",
      "source": [
        "#roots of a quadratic equation\n",
        "import numpy as np\n",
        "\n",
        "def roots(a,b,c):\n",
        "  x1 = (-b + np.sqrt(b**2 -4*a*c))/(2*a)\n",
        "  x2 = (-b - np.sqrt(b**2 -4*a*c))/(2*a)\n",
        "  return x1,x2\n",
        "\n",
        "roots(1,5,6)"
      ],
      "metadata": {
        "id": "EW5GdAFGeM7q"
      },
      "execution_count": null,
      "outputs": []
    },
    {
      "cell_type": "code",
      "source": [
        "# factorial\n",
        "\n",
        "def factorial(n):\n",
        "  prod = 1\n",
        "  for i in range(1,n+1):\n",
        "    prod = prod *i\n",
        "  return prod\n",
        "\n",
        "factorial(5)"
      ],
      "metadata": {
        "id": "-F1M24W6j251"
      },
      "execution_count": null,
      "outputs": []
    },
    {
      "cell_type": "code",
      "source": [
        "# factorial recursion\n",
        "\n",
        "def factorial_rec(n):\n",
        "  prod = 1\n",
        "  while n > 0:\n",
        "    prod = prod*n\n",
        "    n -=1\n",
        "  return prod\n",
        "\n",
        "factorial_rec(5)"
      ],
      "metadata": {
        "id": "hqrbBmtdkh3Y"
      },
      "execution_count": null,
      "outputs": []
    },
    {
      "cell_type": "code",
      "source": [
        "x = 1\n",
        "def f():\n",
        "  global x\n",
        "  y = x\n",
        "  x = 2\n",
        "  return x + y\n",
        "print (x)\n",
        "print (f())\n",
        "print (x)"
      ],
      "metadata": {
        "id": "gxf_FoKXkO9g"
      },
      "execution_count": null,
      "outputs": []
    },
    {
      "cell_type": "code",
      "source": [
        "x = 2\n",
        "def f(a):\n",
        "  x = a * a\n",
        "  return x\n",
        "y = f(3)\n",
        "print (x, y)"
      ],
      "metadata": {
        "id": "6GUt_dpClJyb"
      },
      "execution_count": null,
      "outputs": []
    },
    {
      "cell_type": "code",
      "source": [
        "def istrcmp(sent1, sent2):\n",
        "  return sent1.lower() == sent2.lower()\n",
        "\n",
        "\n",
        "istrcmp('Milan', 'MiL0n')"
      ],
      "metadata": {
        "id": "ePjQGZccPCNR"
      },
      "execution_count": null,
      "outputs": []
    },
    {
      "cell_type": "code",
      "source": [],
      "metadata": {
        "id": "xd2wkON0VnXN"
      },
      "execution_count": null,
      "outputs": []
    }
  ]
}